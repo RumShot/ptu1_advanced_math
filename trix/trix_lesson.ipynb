{
 "cells": [
  {
   "cell_type": "markdown",
   "metadata": {},
   "source": [
    "# map()"
   ]
  },
  {
   "cell_type": "code",
   "execution_count": 163,
   "metadata": {},
   "outputs": [
    {
     "name": "stdout",
     "output_type": "stream",
     "text": [
      "[16, 9, 4, 1]\n"
     ]
    }
   ],
   "source": [
    "sarasas = [4, 3, 2, 1]\n",
    "\n",
    "sarasas_2 = []\n",
    "for skaicius in sarasas:\n",
    "    sarasas_2.append(skaicius ** 2)\n",
    "\n",
    "print(sarasas_2)"
   ]
  },
  {
   "cell_type": "markdown",
   "metadata": {},
   "source": [
    "# filter()"
   ]
  },
  {
   "cell_type": "code",
   "execution_count": 164,
   "metadata": {},
   "outputs": [
    {
     "data": {
      "text/plain": [
       "[4, 2]"
      ]
     },
     "execution_count": 164,
     "metadata": {},
     "output_type": "execute_result"
    }
   ],
   "source": [
    "sarasas\n",
    "lyginiai = []\n",
    "for skaicius in sarasas:\n",
    "    if skaicius % 2 == 0:\n",
    "        lyginiai.append(skaicius)\n",
    "lyginiai"
   ]
  },
  {
   "cell_type": "code",
   "execution_count": 165,
   "metadata": {},
   "outputs": [
    {
     "data": {
      "text/plain": [
       "(4, 2)"
      ]
     },
     "execution_count": 165,
     "metadata": {},
     "output_type": "execute_result"
    }
   ],
   "source": [
    "pirmas, antras = filter(lambda skaicius: skaicius % 2 == 0, sarasas)\n",
    "pirmas, antras"
   ]
  },
  {
   "cell_type": "code",
   "execution_count": 153,
   "metadata": {},
   "outputs": [
    {
     "data": {
      "text/plain": [
       "[1904,\n",
       " 1908,\n",
       " 1912,\n",
       " 1916,\n",
       " 1920,\n",
       " 1924,\n",
       " 1928,\n",
       " 1932,\n",
       " 1936,\n",
       " 1940,\n",
       " 1944,\n",
       " 1948,\n",
       " 1952,\n",
       " 1956,\n",
       " 1960,\n",
       " 1964,\n",
       " 1968,\n",
       " 1972,\n",
       " 1976,\n",
       " 1980,\n",
       " 1984,\n",
       " 1988,\n",
       " 1992,\n",
       " 1996,\n",
       " 2000,\n",
       " 2004,\n",
       " 2008,\n",
       " 2012,\n",
       " 2016,\n",
       " 2020,\n",
       " 2024,\n",
       " 2028,\n",
       " 2032,\n",
       " 2036,\n",
       " 2040,\n",
       " 2044,\n",
       " 2048,\n",
       " 2052,\n",
       " 2056,\n",
       " 2060,\n",
       " 2064,\n",
       " 2068,\n",
       " 2072,\n",
       " 2076,\n",
       " 2080,\n",
       " 2084,\n",
       " 2088,\n",
       " 2092,\n",
       " 2096,\n",
       " 2104]"
      ]
     },
     "execution_count": 153,
     "metadata": {},
     "output_type": "execute_result"
    }
   ],
   "source": [
    "from calendar import isleap\n",
    "metai = range(1900, 2105)\n",
    "keliamieji = filter(isleap, metai)\n",
    "list(keliamieji)"
   ]
  },
  {
   "cell_type": "markdown",
   "metadata": {},
   "source": [
    "# reduce()"
   ]
  },
  {
   "cell_type": "code",
   "execution_count": null,
   "metadata": {},
   "outputs": [],
   "source": [
    "from functools import reduce\n",
    "\n",
    "\n",
    "suma = reduce(lambda dedamoji, skaicius: dedamoji * skaicius, sarasas)\n",
    "suma"
   ]
  },
  {
   "cell_type": "code",
   "execution_count": null,
   "metadata": {},
   "outputs": [],
   "source": [
    "from functools import reduce\n",
    "\n",
    "\n",
    "suma = reduce(lambda dedamoji, skaicius: dedamoji * skaicius, sarasas)\n",
    "suma"
   ]
  },
  {
   "cell_type": "markdown",
   "metadata": {},
   "source": [
    "# ListComprehention()"
   ]
  },
  {
   "cell_type": "code",
   "execution_count": null,
   "metadata": {},
   "outputs": [],
   "source": [
    "saraselis = [5, 3, -1, 7, -6, 0, 1, 4]\n",
    "daugiau_uz_2 = [skaicius for skaicius in saraselis if skaicius > 2]\n",
    "daugiau_uz_2"
   ]
  },
  {
   "cell_type": "code",
   "execution_count": null,
   "metadata": {},
   "outputs": [],
   "source": [
    "lyginis = [skaicius for skaicius in saraselis if skaicius % 2 == 0]\n",
    "lyginis"
   ]
  },
  {
   "cell_type": "code",
   "execution_count": null,
   "metadata": {},
   "outputs": [],
   "source": [
    "kvadratai = (skaicius **2 for skaicius in saraselis)\n",
    "list(kvadratai)"
   ]
  },
  {
   "cell_type": "code",
   "execution_count": null,
   "metadata": {},
   "outputs": [],
   "source": [
    "kreivi_duomenys = (100, -5, 17, 'kibiras', 33, 'stikline')\n",
    "# suma = sum(type(skaicius) is int for skaicius in kreivi_duomenys)\n",
    "suma = sum(skaicius for skaicius in kreivi_duomenys if type(skaicius) is int )\n",
    "suma"
   ]
  },
  {
   "cell_type": "markdown",
   "metadata": {},
   "source": [
    "# sort() ir sorted()\n"
   ]
  },
  {
   "cell_type": "code",
   "execution_count": null,
   "metadata": {},
   "outputs": [],
   "source": [
    "# saraselis.sort()\n",
    "saraselis"
   ]
  },
  {
   "cell_type": "code",
   "execution_count": null,
   "metadata": {},
   "outputs": [],
   "source": [
    "isrusiuotas = sorted(saraselis)\n",
    "isrusiuotas, saraselis"
   ]
  },
  {
   "cell_type": "code",
   "execution_count": null,
   "metadata": {},
   "outputs": [],
   "source": [
    "atbulai = sorted(saraselis, reverse=True)\n",
    "atbulai"
   ]
  },
  {
   "cell_type": "code",
   "execution_count": null,
   "metadata": {},
   "outputs": [],
   "source": [
    "tupliux = (7, 88, 9, -77, 42, 23, 77)\n",
    "pertupliuotas = sorted(tupliux)\n",
    "pertupliuotas"
   ]
  },
  {
   "cell_type": "code",
   "execution_count": null,
   "metadata": {},
   "outputs": [],
   "source": [
    "zodynas = {\"vardas\": \"romas\", \"pavarde\": \"otas\", \"amzius\": \"dar jaunas\"}\n",
    "pagerintas = sorted(zodynas)\n",
    "# pagerintas\n",
    "[zodynas[raktas] for raktas in pagerintas]"
   ]
  },
  {
   "cell_type": "code",
   "execution_count": null,
   "metadata": {},
   "outputs": [],
   "source": [
    "pagal_reiksme = sorted(zodynas.items(), key=lambda item: item[1])\n",
    "pagal_reiksme"
   ]
  },
  {
   "cell_type": "code",
   "execution_count": null,
   "metadata": {},
   "outputs": [],
   "source": [
    "sorted(saraselis, key=abs)"
   ]
  },
  {
   "cell_type": "markdown",
   "metadata": {},
   "source": [
    "# Objekts"
   ]
  },
  {
   "cell_type": "code",
   "execution_count": 191,
   "metadata": {},
   "outputs": [
    {
     "data": {
      "text/plain": [
       "[Geras Pytoniskas uzdirba 10000 euru,\n",
       " Kestutis Januskevicius uzdirba 5000 euru,\n",
       " Lietuvos Prezidentas uzdirba 17000 euru,\n",
       " Zinomas Tuberis uzdirba 25000 euru]"
      ]
     },
     "execution_count": 191,
     "metadata": {},
     "output_type": "execute_result"
    }
   ],
   "source": [
    "class Darbuotojas:\n",
    "    def __init__ (self, vardas, pavarde, atlyginimas = 0):\n",
    "        self.vardas = vardas\n",
    "        self.pavarde = pavarde\n",
    "        self.atlyginimas = atlyginimas\n",
    "\n",
    "    def __repr__(self):\n",
    "        return f\"{self.vardas} {self.pavarde} uzdirba {self.atlyginimas} euru\"\n",
    "\n",
    "\n",
    "\n",
    "d1 = Darbuotojas('Kestutis', 'Januskevicius', 5000)\n",
    "d2 = Darbuotojas('Geras', 'Pytoniskas', 10000)\n",
    "d3 = Darbuotojas('Zinomas', 'Tuberis', 25000)\n",
    "d4 = Darbuotojas('Lietuvos', 'Prezidentas', 17000)\n",
    "\n",
    "darbuotojai = [d1, d2, d3, d4]\n",
    "\n",
    "# rusiavimas pagar darbuotojo varda\n",
    "def rusiavimas_pagal_varda(betkas):\n",
    "    if isinstance(betkas, Darbuotojas):\n",
    "        return betkas.vardas\n",
    "    return betkas\n",
    "    \n",
    "# rusiavimas pagal atlyginima\n",
    "def rusiavimas_pagal_atlyginima(darbuotojo_klase):\n",
    "    return darbuotojo_klase.atlyginimas\n",
    "\n",
    "surusiuoti = sorted(darbuotojai, key=rusiavimas_pagal_varda)\n",
    "surusiuoti\n"
   ]
  },
  {
   "cell_type": "code",
   "execution_count": 192,
   "metadata": {},
   "outputs": [
    {
     "data": {
      "text/plain": [
       "[Kestutis Januskevicius uzdirba 5000 euru,\n",
       " Geras Pytoniskas uzdirba 10000 euru,\n",
       " Lietuvos Prezidentas uzdirba 17000 euru,\n",
       " Zinomas Tuberis uzdirba 25000 euru]"
      ]
     },
     "execution_count": 192,
     "metadata": {},
     "output_type": "execute_result"
    }
   ],
   "source": [
    "surusiuoti = sorted(darbuotojai, key= lambda darbuotojas: darbuotojas.atlyginimas)\n",
    "surusiuoti"
   ]
  },
  {
   "cell_type": "code",
   "execution_count": 193,
   "metadata": {},
   "outputs": [
    {
     "data": {
      "text/plain": [
       "[Kestutis Januskevicius uzdirba 5000 euru,\n",
       " Lietuvos Prezidentas uzdirba 17000 euru,\n",
       " Geras Pytoniskas uzdirba 10000 euru,\n",
       " Zinomas Tuberis uzdirba 25000 euru]"
      ]
     },
     "execution_count": 193,
     "metadata": {},
     "output_type": "execute_result"
    }
   ],
   "source": [
    "from operator import attrgetter\n",
    "surusiuoti = sorted(darbuotojai, key=attrgetter(\"pavarde\"))\n",
    "surusiuoti"
   ]
  },
  {
   "cell_type": "markdown",
   "metadata": {},
   "source": [
    "# Uzduotys"
   ]
  },
  {
   "cell_type": "code",
   "execution_count": null,
   "metadata": {},
   "outputs": [],
   "source": [
    "zen = \"\"\"The Zen of Python, by Tim Peters\n",
    "\n",
    "Beautiful is better than ugly.\n",
    "Explicit is better than implicit.\n",
    "Simple is better than complex.\n",
    "Complex is better than complicated.\n",
    "Flat is better than nested.\n",
    "Sparse is better than dense.\n",
    "Readability counts.\n",
    "Special cases aren't special enough to break the rules.\n",
    "Although practicality beats purity.\n",
    "Errors should never pass silently.\n",
    "Unless explicitly silenced.\n",
    "In the face of ambiguity, refuse the temptation to guess.\n",
    "There should be one-- and preferably only one --obvious way to do it.\n",
    "Although that way may not be obvious at first unless you're Dutch.\n",
    "Now is better than never.\n",
    "Although never is often better than *right* now.\n",
    "If the implementation is hard to explain, it's a bad idea.\n",
    "If the implementation is easy to explain, it may be a good idea.\n",
    "Namespaces are one honking great idea -- let's do more of those!\"\"\"\n",
    "words = [word + \"!\" for word in zen.split()]\n",
    "\" \".join(words)"
   ]
  },
  {
   "cell_type": "code",
   "execution_count": null,
   "metadata": {},
   "outputs": [],
   "source": [
    "numbers = list(range(0, 50))\n",
    "# [number * 10 for number in  list(range(0, 50))]\n"
   ]
  },
  {
   "cell_type": "code",
   "execution_count": null,
   "metadata": {},
   "outputs": [],
   "source": [
    "seventh = [number for number in  list(range(0, 50)) if number % 7 == 0]\n",
    "seventh"
   ]
  },
  {
   "cell_type": "code",
   "execution_count": null,
   "metadata": {},
   "outputs": [],
   "source": [
    "twotimestwo = [number ** 2 for number in numbers]\n",
    "# twotimestwo"
   ]
  },
  {
   "cell_type": "code",
   "execution_count": null,
   "metadata": {},
   "outputs": [],
   "source": [
    "from statistics import mean, median\n",
    "\n",
    "# sum(twotimestwo),min(twotimestwo),max(twotimestwo),mean(twotimestwo),median(twotimestwo)"
   ]
  },
  {
   "cell_type": "code",
   "execution_count": null,
   "metadata": {},
   "outputs": [],
   "source": [
    "sorted(twotimestwo, reverse=True)"
   ]
  },
  {
   "cell_type": "code",
   "execution_count": 174,
   "metadata": {},
   "outputs": [
    {
     "data": {
      "text/plain": [
       "27.3"
      ]
     },
     "execution_count": 174,
     "metadata": {},
     "output_type": "execute_result"
    }
   ],
   "source": [
    "sarasas = [2.5, 2, \"Labas\", True, 5, 7, 8, 2.8, \"Vakaras\"]\n",
    "sum(element for element in sarasas if type(element) is int or type(element) is float)"
   ]
  },
  {
   "cell_type": "code",
   "execution_count": 148,
   "metadata": {},
   "outputs": [
    {
     "data": {
      "text/plain": [
       "'Labas Vakaras'"
      ]
     },
     "execution_count": 148,
     "metadata": {},
     "output_type": "execute_result"
    }
   ],
   "source": [
    "str_words = [word for word in sarasas if type(word) is str]\n",
    "\" \".join(str_words)"
   ]
  },
  {
   "cell_type": "code",
   "execution_count": 178,
   "metadata": {},
   "outputs": [
    {
     "data": {
      "text/plain": [
       "1"
      ]
     },
     "execution_count": 178,
     "metadata": {},
     "output_type": "execute_result"
    }
   ],
   "source": [
    "sum([type(is_bool) is bool for is_bool in sarasas])"
   ]
  },
  {
   "cell_type": "code",
   "execution_count": 195,
   "metadata": {},
   "outputs": [
    {
     "data": {
      "text/plain": [
       "[Domas: 55, Klaudija: 20, Lukas: 13, Romas: 30]"
      ]
     },
     "execution_count": 195,
     "metadata": {},
     "output_type": "execute_result"
    }
   ],
   "source": [
    "class Zmogus():\n",
    "    def __init__(self, vardas, amzius):\n",
    "        self.vardas = vardas\n",
    "        self.amzius = amzius\n",
    "\n",
    "    def __repr__(self):\n",
    "        return f\"{self.vardas}: {self.amzius}\"\n",
    "\n",
    "person1 = Zmogus(\"Romas\", 30)\n",
    "person2 = Zmogus(\"Lukas\", 13)\n",
    "person3 = Zmogus(\"Domas\", 55)\n",
    "person4 = Zmogus(\"Klaudija\", 20)\n",
    "\n",
    "persons = [person1, person2, person3, person4]\n",
    "\n",
    "def pagal_varda(persons):\n",
    "    return persons.vardas\n",
    "\n",
    "def pagal_amziu(persons):\n",
    "    return persons.amzius\n",
    "\n",
    "surusiuoti = sorted(persons, key=pagal_varda)\n",
    "surusiuoti"
   ]
  },
  {
   "cell_type": "code",
   "execution_count": 196,
   "metadata": {},
   "outputs": [
    {
     "data": {
      "text/plain": [
       "[Lukas: 13, Klaudija: 20, Romas: 30, Domas: 55]"
      ]
     },
     "execution_count": 196,
     "metadata": {},
     "output_type": "execute_result"
    }
   ],
   "source": [
    "surusiuoti = sorted(persons, key=pagal_amziu)\n",
    "surusiuoti"
   ]
  },
  {
   "cell_type": "code",
   "execution_count": 203,
   "metadata": {},
   "outputs": [
    {
     "data": {
      "text/plain": [
       "[Romas: 30, Lukas: 13, Klaudija: 20, Domas: 55]"
      ]
     },
     "execution_count": 203,
     "metadata": {},
     "output_type": "execute_result"
    }
   ],
   "source": [
    "from operator import attrgetter\n",
    "surusiuoti = sorted(persons, key=attrgetter('vardas'), reverse= True)\n",
    "surusiuoti"
   ]
  }
 ],
 "metadata": {
  "interpreter": {
   "hash": "dc6652a9deb301d9e2de3d630ebba02662cf0e4ce6fc32bfb51f6064a3c6b443"
  },
  "kernelspec": {
   "display_name": "Python 3.10.4 ('venv': venv)",
   "language": "python",
   "name": "python3"
  },
  "language_info": {
   "codemirror_mode": {
    "name": "ipython",
    "version": 3
   },
   "file_extension": ".py",
   "mimetype": "text/x-python",
   "name": "python",
   "nbconvert_exporter": "python",
   "pygments_lexer": "ipython3",
   "version": "3.10.4"
  },
  "orig_nbformat": 4
 },
 "nbformat": 4,
 "nbformat_minor": 2
}
