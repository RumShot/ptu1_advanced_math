{
 "cells": [
  {
   "cell_type": "code",
   "execution_count": 2,
   "metadata": {},
   "outputs": [],
   "source": [
    "import numpy as np\n",
    "import pandas as pd"
   ]
  },
  {
   "cell_type": "code",
   "execution_count": 9,
   "metadata": {},
   "outputs": [
    {
     "name": "stdout",
     "output_type": "stream",
     "text": [
      "             Staat                     Official languages    Population  \\\n",
      "0          Austria                                 German   8.4 million   \n",
      "1          Belgium  Dutch (north), French (south), German    11 million   \n",
      "2         Bulgaria                              Bulgarian     7 million   \n",
      "3          Croatia                               Croatian   4.3 million   \n",
      "4           Cyprus                         Greek, Turkish       800 000   \n",
      "5   Czech Republic                                  Czech    10 million   \n",
      "6          Denmark                                 Danish   5.6 million   \n",
      "7          Estonia                               Estonian   1.3 million   \n",
      "8          Finland                       Finnish, Swedish   5.4 million   \n",
      "9           France                                 French    65 million   \n",
      "10         Germany                                 German  82.5 million   \n",
      "11          Greece                                  Greek    11 million   \n",
      "12         Hungary                              Hungarian    10 million   \n",
      "13         Iceland                              Icelandic       320 000   \n",
      "14         Ireland                         English, Irish   4.6 million   \n",
      "15           Italy                                Italian  60.9 million   \n",
      "16          Latvia                                Latvian     2 million   \n",
      "17    Lichtenstein                                 German        36 300   \n",
      "18       Lithuania                             Lithuanian     3 million   \n",
      "19      Luxembourg          French, German, Luxembourgish       524 000   \n",
      "20           Malta                       English, Maltese       450 000   \n",
      "21     Netherlands                                  Dutch  16.8 million   \n",
      "22          Norway                              Norwegian     5 million   \n",
      "23          Poland                                 Polish  38.5 million   \n",
      "24        Portugal                             Portuguese  10.5 million   \n",
      "25         Romania                               Romanian  19.1 million   \n",
      "26        Slovakia                              Slovakian   5.4 million   \n",
      "27        Slovenia                              Slovenian     2 million   \n",
      "28           Spain                                Spanish    47 million   \n",
      "29          Sweden                                Swedish   9.5 million   \n",
      "30     Switzerland       French, German, Italian, Romansh     8 million   \n",
      "31  United Kingdom                                English  63.2 million   \n",
      "\n",
      "       Capital                Currency  Phone     Int.  \n",
      "0       Vienna              euro (EUR)     43      .at  \n",
      "1     Brussels              euro (EUR)     32      .be  \n",
      "2        Sofia     Bulgarian lev (BGN)    359      .bg  \n",
      "3       Zagreb     Croatian kuna (HRK)    385      .hr  \n",
      "4      Nicosia              euro (EUR)    357      .cy  \n",
      "5       Prague      Czech koruna (CZK)    420      .cz  \n",
      "6   Copenhagen      Danish krone (DKK)     45      .dk  \n",
      "7      Tallinn              euro (EUR)    372      .ee  \n",
      "8     Helsinki              euro (EUR)    358  .fi/.ax  \n",
      "9        Paris              euro (EUR)     33      .fr  \n",
      "10      Berlin              euro (EUR)     49      .de  \n",
      "11      Athens              euro (EUR)     30      .gr  \n",
      "12    Budapest  Hungarian forint (HUF)     36      .hu  \n",
      "13   Reykjavik   Icelandic krona (ISK)    354      .is  \n",
      "14      Dublin              euro (EUR)    353      .ie  \n",
      "15        Rome              euro (EUR)     39      .it  \n",
      "16        Riga      Latvian lats (LVL)    371      .lv  \n",
      "17       Vaduz       Swiss franc (CHF)    423      .li  \n",
      "18     Vilnius  Lithuanian litas (LTL)    370      .lt  \n",
      "19  Luxembourg              euro (EUR)    352      .lu  \n",
      "20    Valletta              euro (EUR)    356      .mt  \n",
      "21   Amsterdam              euro (EUR)     31      .nl  \n",
      "22        Oslo   Norwegian krone (NOK)     47      .no  \n",
      "23      Warsaw      Polish ztoty (PLN)     48      .pl  \n",
      "24      Lisbon              euro (EUR)    351      .pt  \n",
      "25   Bucharest      Romanian leu (RON)     40      .ro  \n",
      "26  Bratislava              euro (EUR)    421      .sk  \n",
      "27   Ljubljana              euro (EUR)    386      .si  \n",
      "28      Madrid              euro (EUR)     34      .es  \n",
      "29   Stockholm     Swedish krona (SEK)     46      .se  \n",
      "30        Bern       Swiss franc (CHF)     41      .ch  \n",
      "31      London          Pound sterling     44      .uk  \n"
     ]
    }
   ],
   "source": [
    "url=\"https://work.studentnews.eu/s/3695/75547-European-countries-the-table-language-population-capital-currency-phone-code-internet-code.htm\"\n",
    "countries=pd.read_html(url)\n",
    "rite_to_file = countries[1]\n",
    "print(rite_to_file)"
   ]
  },
  {
   "cell_type": "code",
   "execution_count": 13,
   "metadata": {},
   "outputs": [
    {
     "name": "stderr",
     "output_type": "stream",
     "text": [
      "C:\\Users\\Omas\\AppData\\Local\\Temp\\ipykernel_2188\\2565595821.py:2: FutureWarning: As the xlwt package is no longer maintained, the xlwt engine will be removed in a future version of pandas. This is the only engine in pandas that supports writing in the xls format. Install openpyxl and write to an xlsx file instead. You can set the option io.excel.xls.writer to 'xlwt' to silence this warning. While this option is deprecated and will also raise a warning, it can be globally set and the warning suppressed.\n",
      "  rite_to_file.to_excel('countries_from_url.xls', 'Sheet1')\n"
     ]
    }
   ],
   "source": [
    "# rite_to_file.to_csv('countries_from_url.csv')\n",
    "# rite_to_file.to_excel('countries_from_url.xls', 'Sheet1')"
   ]
  },
  {
   "cell_type": "code",
   "execution_count": 14,
   "metadata": {},
   "outputs": [
    {
     "data": {
      "text/plain": [
       "32"
      ]
     },
     "execution_count": 14,
     "metadata": {},
     "output_type": "execute_result"
    }
   ],
   "source": [
    "from sqlalchemy import create_engine\n",
    "engine = create_engine('sqlite:///countries_from_url.db')\n",
    "rite_to_file.to_sql('countries', con=engine)"
   ]
  },
  {
   "cell_type": "code",
   "execution_count": 32,
   "metadata": {},
   "outputs": [
    {
     "data": {
      "text/html": [
       "<div>\n",
       "<style scoped>\n",
       "    .dataframe tbody tr th:only-of-type {\n",
       "        vertical-align: middle;\n",
       "    }\n",
       "\n",
       "    .dataframe tbody tr th {\n",
       "        vertical-align: top;\n",
       "    }\n",
       "\n",
       "    .dataframe thead th {\n",
       "        text-align: right;\n",
       "    }\n",
       "</style>\n",
       "<table border=\"1\" class=\"dataframe\">\n",
       "  <thead>\n",
       "    <tr style=\"text-align: right;\">\n",
       "      <th></th>\n",
       "      <th>fire_name</th>\n",
       "      <th>cause</th>\n",
       "      <th>month</th>\n",
       "      <th>year</th>\n",
       "      <th>county</th>\n",
       "      <th>acres</th>\n",
       "      <th>structures</th>\n",
       "      <th>deaths</th>\n",
       "    </tr>\n",
       "  </thead>\n",
       "  <tbody>\n",
       "    <tr>\n",
       "      <th>0</th>\n",
       "      <td>Mendocino Complex</td>\n",
       "      <td>Under Investigation</td>\n",
       "      <td>July</td>\n",
       "      <td>2018</td>\n",
       "      <td>Colusa County, Lake County, Mendocino County &amp;...</td>\n",
       "      <td>459123</td>\n",
       "      <td>280</td>\n",
       "      <td>1</td>\n",
       "    </tr>\n",
       "    <tr>\n",
       "      <th>1</th>\n",
       "      <td>Thomas</td>\n",
       "      <td>Powerlines</td>\n",
       "      <td>December</td>\n",
       "      <td>2017</td>\n",
       "      <td>Ventura &amp; Santa Barbara</td>\n",
       "      <td>281893</td>\n",
       "      <td>1063</td>\n",
       "      <td>2</td>\n",
       "    </tr>\n",
       "    <tr>\n",
       "      <th>2</th>\n",
       "      <td>Cedar</td>\n",
       "      <td>Human Related</td>\n",
       "      <td>October</td>\n",
       "      <td>2003</td>\n",
       "      <td>San Diego</td>\n",
       "      <td>273246</td>\n",
       "      <td>2820</td>\n",
       "      <td>15</td>\n",
       "    </tr>\n",
       "    <tr>\n",
       "      <th>3</th>\n",
       "      <td>Rush</td>\n",
       "      <td>Lightning</td>\n",
       "      <td>August</td>\n",
       "      <td>2012</td>\n",
       "      <td>Lassen</td>\n",
       "      <td>271911</td>\n",
       "      <td>0</td>\n",
       "      <td>0</td>\n",
       "    </tr>\n",
       "    <tr>\n",
       "      <th>4</th>\n",
       "      <td>Rim</td>\n",
       "      <td>Human Related</td>\n",
       "      <td>August</td>\n",
       "      <td>2013</td>\n",
       "      <td>Tuolumne</td>\n",
       "      <td>257314</td>\n",
       "      <td>112</td>\n",
       "      <td>0</td>\n",
       "    </tr>\n",
       "  </tbody>\n",
       "</table>\n",
       "</div>"
      ],
      "text/plain": [
       "           fire_name                cause     month  year  \\\n",
       "0  Mendocino Complex  Under Investigation      July  2018   \n",
       "1             Thomas           Powerlines  December  2017   \n",
       "2              Cedar        Human Related   October  2003   \n",
       "3               Rush            Lightning    August  2012   \n",
       "4                Rim        Human Related    August  2013   \n",
       "\n",
       "                                              county   acres  structures  \\\n",
       "0  Colusa County, Lake County, Mendocino County &...  459123         280   \n",
       "1                            Ventura & Santa Barbara  281893        1063   \n",
       "2                                          San Diego  273246        2820   \n",
       "3                                             Lassen  271911           0   \n",
       "4                                           Tuolumne  257314         112   \n",
       "\n",
       "   deaths  \n",
       "0       1  \n",
       "1       2  \n",
       "2      15  \n",
       "3       0  \n",
       "4       0  "
      ]
     },
     "execution_count": 32,
     "metadata": {},
     "output_type": "execute_result"
    }
   ],
   "source": [
    "url= 'https://github.com/robotautas/kursas/blob/master/Pandas/top_20_CA_wildfires.csv'\n",
    "fire_starter=pd.read_html(url)\n",
    "DF = pd.DataFrame(fire_starter[0])\n",
    "redf = DF.drop(columns=['Unnamed: 0'])\n",
    "# list(DF.columns)\n",
    "redf.head(5)"
   ]
  },
  {
   "cell_type": "code",
   "execution_count": 36,
   "metadata": {},
   "outputs": [
    {
     "data": {
      "text/plain": [
       "5"
      ]
     },
     "execution_count": 36,
     "metadata": {},
     "output_type": "execute_result"
    }
   ],
   "source": [
    "len(redf[\"cause\"].unique())"
   ]
  },
  {
   "cell_type": "code",
   "execution_count": 39,
   "metadata": {},
   "outputs": [
    {
     "data": {
      "text/plain": [
       "Human Related          7\n",
       "Lightning              7\n",
       "Powerlines             4\n",
       "Under Investigation    1\n",
       "Undetermined           1\n",
       "Name: cause, dtype: int64"
      ]
     },
     "execution_count": 39,
     "metadata": {},
     "output_type": "execute_result"
    }
   ],
   "source": [
    "redf[\"cause\"].value_counts()"
   ]
  },
  {
   "cell_type": "code",
   "execution_count": 40,
   "metadata": {},
   "outputs": [
    {
     "data": {
      "text/plain": [
       "2018"
      ]
     },
     "execution_count": 40,
     "metadata": {},
     "output_type": "execute_result"
    }
   ],
   "source": [
    "redf['year'].value_counts().idxmax()"
   ]
  },
  {
   "cell_type": "code",
   "execution_count": 50,
   "metadata": {},
   "outputs": [
    {
     "data": {
      "text/plain": [
       "10"
      ]
     },
     "execution_count": 50,
     "metadata": {},
     "output_type": "execute_result"
    }
   ],
   "source": [
    "# redf['deaths'].sum()\n",
    "# sum(redf['deaths'].pct_change().fillna(0)> 0)\n",
    "# sum(redf['deaths'].drop(0) > 0)\n",
    "redf['deaths'].value_counts().drop(0).sum()"
   ]
  },
  {
   "cell_type": "code",
   "execution_count": 76,
   "metadata": {},
   "outputs": [
    {
     "data": {
      "text/html": [
       "<div>\n",
       "<style scoped>\n",
       "    .dataframe tbody tr th:only-of-type {\n",
       "        vertical-align: middle;\n",
       "    }\n",
       "\n",
       "    .dataframe tbody tr th {\n",
       "        vertical-align: top;\n",
       "    }\n",
       "\n",
       "    .dataframe thead th {\n",
       "        text-align: right;\n",
       "    }\n",
       "</style>\n",
       "<table border=\"1\" class=\"dataframe\">\n",
       "  <thead>\n",
       "    <tr style=\"text-align: right;\">\n",
       "      <th></th>\n",
       "      <th>fire_name</th>\n",
       "      <th>cause</th>\n",
       "      <th>month</th>\n",
       "      <th>year</th>\n",
       "      <th>county</th>\n",
       "      <th>acres</th>\n",
       "      <th>structures</th>\n",
       "      <th>deaths</th>\n",
       "    </tr>\n",
       "  </thead>\n",
       "  <tbody>\n",
       "    <tr>\n",
       "      <th>0</th>\n",
       "      <td>Mendocino Complex</td>\n",
       "      <td>Under Investigation</td>\n",
       "      <td>July</td>\n",
       "      <td>2018</td>\n",
       "      <td>Colusa County, Lake County, Mendocino County &amp;...</td>\n",
       "      <td>459123</td>\n",
       "      <td>280</td>\n",
       "      <td>1</td>\n",
       "    </tr>\n",
       "    <tr>\n",
       "      <th>15</th>\n",
       "      <td>Camp Fire</td>\n",
       "      <td>Powerlines</td>\n",
       "      <td>November</td>\n",
       "      <td>2018</td>\n",
       "      <td>Butte</td>\n",
       "      <td>153336</td>\n",
       "      <td>18804</td>\n",
       "      <td>85</td>\n",
       "    </tr>\n",
       "    <tr>\n",
       "      <th>6</th>\n",
       "      <td>Carr</td>\n",
       "      <td>Human Related</td>\n",
       "      <td>July</td>\n",
       "      <td>2018</td>\n",
       "      <td>Shasta County,Trinity County</td>\n",
       "      <td>229651</td>\n",
       "      <td>1614</td>\n",
       "      <td>8</td>\n",
       "    </tr>\n",
       "  </tbody>\n",
       "</table>\n",
       "</div>"
      ],
      "text/plain": [
       "            fire_name                cause     month  year  \\\n",
       "0   Mendocino Complex  Under Investigation      July  2018   \n",
       "15          Camp Fire           Powerlines  November  2018   \n",
       "6                Carr        Human Related      July  2018   \n",
       "\n",
       "                                               county   acres  structures  \\\n",
       "0   Colusa County, Lake County, Mendocino County &...  459123         280   \n",
       "15                                              Butte  153336       18804   \n",
       "6                        Shasta County,Trinity County  229651        1614   \n",
       "\n",
       "    deaths  \n",
       "0        1  \n",
       "15      85  \n",
       "6        8  "
      ]
     },
     "execution_count": 76,
     "metadata": {},
     "output_type": "execute_result"
    }
   ],
   "source": [
    "# redf.sort_values()\n",
    "# redf['year'].nlargest(n=15)\n",
    "# redf['year'].nlargest(n=20)\n",
    "redf.sort_values('year', ascending=False).head(3)"
   ]
  },
  {
   "cell_type": "code",
   "execution_count": null,
   "metadata": {},
   "outputs": [],
   "source": [
    "menesiai = {1: 'January',\n",
    "  2: 'February',\n",
    "  3: 'March',\n",
    "  4: 'April',\n",
    "  5: 'May',\n",
    "  6: 'June',\n",
    "  7: 'July',\n",
    "  8: 'August',\n",
    "  9: 'September',\n",
    "  10: 'October',\n",
    "  11: 'November',\n",
    "  12: 'December'}\n",
    "  "
   ]
  }
 ],
 "metadata": {
  "interpreter": {
   "hash": "03092b820211090668420703618499f77ae967b022192cc47eb2eeefe0aaa7d9"
  },
  "kernelspec": {
   "display_name": "Python 3.10.4 ('venv': venv)",
   "language": "python",
   "name": "python3"
  },
  "language_info": {
   "codemirror_mode": {
    "name": "ipython",
    "version": 3
   },
   "file_extension": ".py",
   "mimetype": "text/x-python",
   "name": "python",
   "nbconvert_exporter": "python",
   "pygments_lexer": "ipython3",
   "version": "3.10.4"
  },
  "orig_nbformat": 4
 },
 "nbformat": 4,
 "nbformat_minor": 2
}
